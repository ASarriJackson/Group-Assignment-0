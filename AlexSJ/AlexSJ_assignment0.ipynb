{
 "cells": [
  {
   "cell_type": "markdown",
   "metadata": {},
   "source": [
    "# Alex SJ working document #"
   ]
  },
  {
   "cell_type": "markdown",
   "metadata": {},
   "source": [
    "## Importing neccessary Libraries ##"
   ]
  },
  {
   "cell_type": "markdown",
   "metadata": {},
   "source": [
    "We start off by importing all the libraries we will use in this file."
   ]
  },
  {
   "cell_type": "code",
   "execution_count": 1,
   "metadata": {},
   "outputs": [],
   "source": [
    "import numpy as np\n",
    "import pandas as pd\n",
    "import seaborn as sns\n",
    "import matplotlib.pyplot as plt\n",
    "import plotly.express as px"
   ]
  },
  {
   "cell_type": "code",
   "execution_count": 2,
   "metadata": {},
   "outputs": [
    {
     "name": "stdout",
     "output_type": "stream",
     "text": [
      "Requirement already satisfied: yfinance in c:\\users\\44747\\anaconda3\\envs\\groupassigment0\\lib\\site-packages (0.2.43)\n",
      "Requirement already satisfied: pandas>=1.3.0 in c:\\users\\44747\\anaconda3\\envs\\groupassigment0\\lib\\site-packages (from yfinance) (2.2.2)\n",
      "Requirement already satisfied: numpy>=1.16.5 in c:\\users\\44747\\anaconda3\\envs\\groupassigment0\\lib\\site-packages (from yfinance) (1.26.4)\n",
      "Requirement already satisfied: requests>=2.31 in c:\\users\\44747\\anaconda3\\envs\\groupassigment0\\lib\\site-packages (from yfinance) (2.32.3)\n",
      "Requirement already satisfied: multitasking>=0.0.7 in c:\\users\\44747\\anaconda3\\envs\\groupassigment0\\lib\\site-packages (from yfinance) (0.0.11)\n",
      "Requirement already satisfied: lxml>=4.9.1 in c:\\users\\44747\\anaconda3\\envs\\groupassigment0\\lib\\site-packages (from yfinance) (5.3.0)\n",
      "Requirement already satisfied: platformdirs>=2.0.0 in c:\\users\\44747\\anaconda3\\envs\\groupassigment0\\lib\\site-packages (from yfinance) (3.10.0)\n",
      "Requirement already satisfied: pytz>=2022.5 in c:\\users\\44747\\anaconda3\\envs\\groupassigment0\\lib\\site-packages (from yfinance) (2024.1)\n",
      "Requirement already satisfied: frozendict>=2.3.4 in c:\\users\\44747\\anaconda3\\envs\\groupassigment0\\lib\\site-packages (from yfinance) (2.4.4)\n",
      "Requirement already satisfied: peewee>=3.16.2 in c:\\users\\44747\\anaconda3\\envs\\groupassigment0\\lib\\site-packages (from yfinance) (3.17.6)\n",
      "Requirement already satisfied: beautifulsoup4>=4.11.1 in c:\\users\\44747\\anaconda3\\envs\\groupassigment0\\lib\\site-packages (from yfinance) (4.12.3)\n",
      "Requirement already satisfied: html5lib>=1.1 in c:\\users\\44747\\anaconda3\\envs\\groupassigment0\\lib\\site-packages (from yfinance) (1.1)\n",
      "Requirement already satisfied: soupsieve>1.2 in c:\\users\\44747\\anaconda3\\envs\\groupassigment0\\lib\\site-packages (from beautifulsoup4>=4.11.1->yfinance) (2.5)\n",
      "Requirement already satisfied: six>=1.9 in c:\\users\\44747\\anaconda3\\envs\\groupassigment0\\lib\\site-packages (from html5lib>=1.1->yfinance) (1.16.0)\n",
      "Requirement already satisfied: webencodings in c:\\users\\44747\\anaconda3\\envs\\groupassigment0\\lib\\site-packages (from html5lib>=1.1->yfinance) (0.5.1)\n",
      "Requirement already satisfied: python-dateutil>=2.8.2 in c:\\users\\44747\\anaconda3\\envs\\groupassigment0\\lib\\site-packages (from pandas>=1.3.0->yfinance) (2.9.0.post0)\n",
      "Requirement already satisfied: tzdata>=2022.7 in c:\\users\\44747\\anaconda3\\envs\\groupassigment0\\lib\\site-packages (from pandas>=1.3.0->yfinance) (2023.3)\n",
      "Requirement already satisfied: charset-normalizer<4,>=2 in c:\\users\\44747\\anaconda3\\envs\\groupassigment0\\lib\\site-packages (from requests>=2.31->yfinance) (3.3.2)\n",
      "Requirement already satisfied: idna<4,>=2.5 in c:\\users\\44747\\anaconda3\\envs\\groupassigment0\\lib\\site-packages (from requests>=2.31->yfinance) (3.7)\n",
      "Requirement already satisfied: urllib3<3,>=1.21.1 in c:\\users\\44747\\anaconda3\\envs\\groupassigment0\\lib\\site-packages (from requests>=2.31->yfinance) (2.2.2)\n",
      "Requirement already satisfied: certifi>=2017.4.17 in c:\\users\\44747\\anaconda3\\envs\\groupassigment0\\lib\\site-packages (from requests>=2.31->yfinance) (2024.8.30)\n"
     ]
    }
   ],
   "source": [
    "!pip install yfinance"
   ]
  },
  {
   "cell_type": "code",
   "execution_count": 3,
   "metadata": {},
   "outputs": [],
   "source": [
    "import yfinance as yf"
   ]
  },
  {
   "cell_type": "code",
   "execution_count": 16,
   "metadata": {},
   "outputs": [
    {
     "name": "stderr",
     "output_type": "stream",
     "text": [
      "[*********************100%***********************]  1 of 1 completed"
     ]
    },
    {
     "name": "stdout",
     "output_type": "stream",
     "text": [
      "                  Open        High         Low       Close   Adj Close  \\\n",
      "Date                                                                     \n",
      "2022-01-03  145.054993  145.850998  143.712997  144.991501  144.633362   \n",
      "2022-01-04  145.395996  146.485001  143.716507  144.399506  144.042831   \n",
      "2022-01-05  144.419998  144.499496  137.688004  137.774994  137.434677   \n",
      "2022-01-06  136.998505  139.940002  136.558502  137.747498  137.407257   \n",
      "2022-01-07  138.145493  138.448502  135.766495  137.016998  136.678558   \n",
      "...                ...         ...         ...         ...         ...   \n",
      "2022-12-23   87.110001   89.550003   87.070000   89.230003   89.009598   \n",
      "2022-12-27   88.800003   88.940002   87.010002   87.389999   87.174141   \n",
      "2022-12-28   86.980003   88.040001   85.940002   86.019997   85.807526   \n",
      "2022-12-29   86.620003   88.849998   86.610001   88.449997   88.231522   \n",
      "2022-12-30   86.980003   88.300003   86.570000   88.230003   88.012070   \n",
      "\n",
      "              Volume  \n",
      "Date                  \n",
      "2022-01-03  28646000  \n",
      "2022-01-04  28400000  \n",
      "2022-01-05  54618000  \n",
      "2022-01-06  37348000  \n",
      "2022-01-07  29760000  \n",
      "...              ...  \n",
      "2022-12-23  23003000  \n",
      "2022-12-27  20097300  \n",
      "2022-12-28  19523200  \n",
      "2022-12-29  23333500  \n",
      "2022-12-30  23986300  \n",
      "\n",
      "[251 rows x 6 columns]\n"
     ]
    },
    {
     "name": "stderr",
     "output_type": "stream",
     "text": [
      "\n"
     ]
    }
   ],
   "source": [
    "# Download the stock data\n",
    "google_stock_data = yf.download(\"GOOGL\", start='2022-01-01', end='2023-01-01')\n",
    "\n",
    "# Display the data\n",
    "print(google_stock_data)"
   ]
  },
  {
   "cell_type": "code",
   "execution_count": 19,
   "metadata": {},
   "outputs": [
    {
     "data": {
      "text/html": [
       "<div>\n",
       "<style scoped>\n",
       "    .dataframe tbody tr th:only-of-type {\n",
       "        vertical-align: middle;\n",
       "    }\n",
       "\n",
       "    .dataframe tbody tr th {\n",
       "        vertical-align: top;\n",
       "    }\n",
       "\n",
       "    .dataframe thead th {\n",
       "        text-align: right;\n",
       "    }\n",
       "</style>\n",
       "<table border=\"1\" class=\"dataframe\">\n",
       "  <thead>\n",
       "    <tr style=\"text-align: right;\">\n",
       "      <th></th>\n",
       "      <th>Date</th>\n",
       "      <th>Open</th>\n",
       "      <th>High</th>\n",
       "      <th>Low</th>\n",
       "      <th>Close</th>\n",
       "      <th>Adj Close</th>\n",
       "      <th>Volume</th>\n",
       "    </tr>\n",
       "  </thead>\n",
       "  <tbody>\n",
       "    <tr>\n",
       "      <th>0</th>\n",
       "      <td>2022-01-03</td>\n",
       "      <td>145.054993</td>\n",
       "      <td>145.850998</td>\n",
       "      <td>143.712997</td>\n",
       "      <td>144.991501</td>\n",
       "      <td>144.633362</td>\n",
       "      <td>28646000</td>\n",
       "    </tr>\n",
       "    <tr>\n",
       "      <th>1</th>\n",
       "      <td>2022-01-04</td>\n",
       "      <td>145.395996</td>\n",
       "      <td>146.485001</td>\n",
       "      <td>143.716507</td>\n",
       "      <td>144.399506</td>\n",
       "      <td>144.042831</td>\n",
       "      <td>28400000</td>\n",
       "    </tr>\n",
       "    <tr>\n",
       "      <th>2</th>\n",
       "      <td>2022-01-05</td>\n",
       "      <td>144.419998</td>\n",
       "      <td>144.499496</td>\n",
       "      <td>137.688004</td>\n",
       "      <td>137.774994</td>\n",
       "      <td>137.434677</td>\n",
       "      <td>54618000</td>\n",
       "    </tr>\n",
       "    <tr>\n",
       "      <th>3</th>\n",
       "      <td>2022-01-06</td>\n",
       "      <td>136.998505</td>\n",
       "      <td>139.940002</td>\n",
       "      <td>136.558502</td>\n",
       "      <td>137.747498</td>\n",
       "      <td>137.407257</td>\n",
       "      <td>37348000</td>\n",
       "    </tr>\n",
       "    <tr>\n",
       "      <th>4</th>\n",
       "      <td>2022-01-07</td>\n",
       "      <td>138.145493</td>\n",
       "      <td>138.448502</td>\n",
       "      <td>135.766495</td>\n",
       "      <td>137.016998</td>\n",
       "      <td>136.678558</td>\n",
       "      <td>29760000</td>\n",
       "    </tr>\n",
       "  </tbody>\n",
       "</table>\n",
       "</div>"
      ],
      "text/plain": [
       "        Date        Open        High         Low       Close   Adj Close  \\\n",
       "0 2022-01-03  145.054993  145.850998  143.712997  144.991501  144.633362   \n",
       "1 2022-01-04  145.395996  146.485001  143.716507  144.399506  144.042831   \n",
       "2 2022-01-05  144.419998  144.499496  137.688004  137.774994  137.434677   \n",
       "3 2022-01-06  136.998505  139.940002  136.558502  137.747498  137.407257   \n",
       "4 2022-01-07  138.145493  138.448502  135.766495  137.016998  136.678558   \n",
       "\n",
       "     Volume  \n",
       "0  28646000  \n",
       "1  28400000  \n",
       "2  54618000  \n",
       "3  37348000  \n",
       "4  29760000  "
      ]
     },
     "execution_count": 19,
     "metadata": {},
     "output_type": "execute_result"
    }
   ],
   "source": [
    "google_stock_data.head()"
   ]
  },
  {
   "cell_type": "code",
   "execution_count": 18,
   "metadata": {},
   "outputs": [],
   "source": [
    "google_stock_data.reset_index(inplace=True)"
   ]
  },
  {
   "cell_type": "markdown",
   "metadata": {},
   "source": [
    "https://youtu.be/6K5_Tgx99p4?si=8Esh6Ajjs_xflaNf"
   ]
  },
  {
   "cell_type": "markdown",
   "metadata": {},
   "source": []
  }
 ],
 "metadata": {
  "kernelspec": {
   "display_name": "Python 3",
   "language": "python",
   "name": "python3"
  },
  "language_info": {
   "codemirror_mode": {
    "name": "ipython",
    "version": 3
   },
   "file_extension": ".py",
   "mimetype": "text/x-python",
   "name": "python",
   "nbconvert_exporter": "python",
   "pygments_lexer": "ipython3",
   "version": "3.12.5"
  }
 },
 "nbformat": 4,
 "nbformat_minor": 2
}
